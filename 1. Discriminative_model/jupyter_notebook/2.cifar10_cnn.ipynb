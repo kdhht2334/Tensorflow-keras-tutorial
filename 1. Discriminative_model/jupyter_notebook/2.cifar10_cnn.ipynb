{
 "cells": [
  {
   "cell_type": "markdown",
   "metadata": {},
   "source": [
    "# CNN with CIFAR dataset\n",
    "\n",
    "In this section, we are going to construct convolutional neural network (CNN) by using `tf.keras`.\n",
    "\n",
    "Also, we use color image named CIFAR dataset."
   ]
  },
  {
   "cell_type": "markdown",
   "metadata": {},
   "source": [
    "### 1. Load dependencies\n",
    "\n",
    "First, we can load tf.keras and other python libraries."
   ]
  },
  {
   "cell_type": "code",
   "execution_count": 4,
   "metadata": {},
   "outputs": [
    {
     "name": "stdout",
     "output_type": "stream",
     "text": [
      "[INFO] Tensorflow version is 1.11.0\n"
     ]
    }
   ],
   "source": [
    "import numpy as np\n",
    "np.random.seed(2 ** 10)\n",
    "\n",
    "import matplotlib.pyplot as plt\n",
    "\n",
    "import tensorflow as tf\n",
    "print(\"[INFO] Tensorflow version is {}\".format(tf.__version__))"
   ]
  },
  {
   "cell_type": "markdown",
   "metadata": {},
   "source": [
    "And then, we can load tensorflow eager model for better tensor management."
   ]
  },
  {
   "cell_type": "code",
   "execution_count": 6,
   "metadata": {},
   "outputs": [],
   "source": [
    "tf.enable_eager_execution()"
   ]
  },
  {
   "cell_type": "markdown",
   "metadata": {},
   "source": [
    "### 2. Load dataset and pre-processing"
   ]
  },
  {
   "cell_type": "code",
   "execution_count": 19,
   "metadata": {},
   "outputs": [],
   "source": [
    "# Load mnist dataset\n",
    "(x_train, y_train), (x_test, y_test) = tf.keras.datasets.cifar10.load_data()"
   ]
  },
  {
   "cell_type": "code",
   "execution_count": 20,
   "metadata": {},
   "outputs": [
    {
     "name": "stdout",
     "output_type": "stream",
     "text": [
      "Shape of x_train is (50000, 32, 32, 3)\n",
      "Shape of x_test is (10000, 32, 32, 3)\n",
      "Shape of y_train is (50000, 10)\n",
      "Shape of y_test is (10000, 10)\n"
     ]
    }
   ],
   "source": [
    "# Pre-processing\n",
    "x_train = x_train.astype(np.float32)\n",
    "x_test = x_test.astype(np.float32)\n",
    "x_train /= 255.\n",
    "x_test /= 255.\n",
    "\n",
    "y_train = tf.keras.utils.to_categorical(y_train, num_classes=10).astype(np.float32)\n",
    "y_test = tf.keras.utils.to_categorical(y_test, num_classes=10).astype(np.float32)\n",
    "\n",
    "print(\"Shape of x_train is {}\".format(np.shape(x_train)))\n",
    "print(\"Shape of x_test is {}\".format(np.shape(x_test)))\n",
    "print(\"Shape of y_train is {}\".format(np.shape(y_train)))\n",
    "print(\"Shape of y_test is {}\".format(np.shape(y_test)))"
   ]
  },
  {
   "cell_type": "code",
   "execution_count": 12,
   "metadata": {},
   "outputs": [
    {
     "data": {
      "text/plain": [
       "<matplotlib.image.AxesImage at 0xb1f6315f8>"
      ]
     },
     "execution_count": 12,
     "metadata": {},
     "output_type": "execute_result"
    },
    {
     "data": {
      "image/png": "[encoded data removed]",
      "text/plain": [
       "<Figure size 432x288 with 1 Axes>"
      ]
     },
     "metadata": {},
     "output_type": "display_data"
    }
   ],
   "source": [
    "import matplotlib.pyplot as plt\n",
    "plt.imshow(x_train[0,:,:,:]*255.)"
   ]
  },
  {
   "cell_type": "code",
   "execution_count": 13,
   "metadata": {},
   "outputs": [
    {
     "data": {
      "text/plain": [
       "<matplotlib.image.AxesImage at 0xb1f6cb710>"
      ]
     },
     "execution_count": 13,
     "metadata": {},
     "output_type": "execute_result"
    },
    {
     "data": {
      "image/png": "[encoded data removed]",
      "text/plain": [
       "<Figure size 432x288 with 1 Axes>"
      ]
     },
     "metadata": {},
     "output_type": "display_data"
    }
   ],
   "source": [
    "plt.imshow(x_train[100]*255.)"
   ]
  },
  {
   "cell_type": "markdown",
   "metadata": {},
   "source": [
    "# 3. Construct tf.keras model\n",
    "\n",
    "We can construct tensorflow model by using tf.keras.layers.\n",
    "\n",
    "It's a lot easier than using an existing tensorflow, and the management of the tensor is clear."
   ]
  },
  {
   "cell_type": "code",
   "execution_count": 21,
   "metadata": {},
   "outputs": [
    {
     "name": "stdout",
     "output_type": "stream",
     "text": [
      "_________________________________________________________________\n",
      "Layer (type)                 Output Shape              Param #   \n",
      "=================================================================\n",
      "input_3 (InputLayer)         (None, 32, 32, 3)         0         \n",
      "_________________________________________________________________\n",
      "conv2d_4 (Conv2D)            (None, 32, 32, 32)        896       \n",
      "_________________________________________________________________\n",
      "max_pooling2d_4 (MaxPooling2 (None, 16, 16, 32)        0         \n",
      "_________________________________________________________________\n",
      "conv2d_5 (Conv2D)            (None, 16, 16, 64)        18496     \n",
      "_________________________________________________________________\n",
      "max_pooling2d_5 (MaxPooling2 (None, 8, 8, 64)          0         \n",
      "_________________________________________________________________\n",
      "flatten_2 (Flatten)          (None, 4096)              0         \n",
      "_________________________________________________________________\n",
      "dense_6 (Dense)              (None, 128)               524416    \n",
      "_________________________________________________________________\n",
      "dense_7 (Dense)              (None, 64)                8256      \n",
      "_________________________________________________________________\n",
      "dense_8 (Dense)              (None, 10)                650       \n",
      "=================================================================\n",
      "Total params: 552,714\n",
      "Trainable params: 552,714\n",
      "Non-trainable params: 0\n",
      "_________________________________________________________________\n",
      "Total parameters of model is 552714\n"
     ]
    }
   ],
   "source": [
    "# Build a tf.keras model\n",
    "inputs = tf.keras.Input(shape=(32, 32, 3))\n",
    "\n",
    "conv1 = tf.keras.layers.Conv2D(filters=32, kernel_size=3, \n",
    "                                                  kernel_initializer=\"he_normal\",\n",
    "                                                  kernel_regularizer=tf.keras.regularizers.l2(5e-4),\n",
    "                                                  padding=\"same\", activation=tf.nn.relu)(inputs)\n",
    "pool1 = tf.keras.layers.MaxPooling2D(pool_size=(2, 2), strides=2)(conv1)\n",
    "\n",
    "conv2 = tf.keras.layers.Conv2D(filters=64, kernel_size=3, \n",
    "                                                   kernel_initializer=\"he_normal\",\n",
    "                                                   kernel_regularizer=tf.keras.regularizers.l2(5e-4),\n",
    "                                                   padding=\"same\", activation=tf.nn.relu)(pool1)\n",
    "pool2 = tf.keras.layers.MaxPooling2D(pool_size=(2, 2), strides=2)(conv2)\n",
    "\n",
    "flatten = tf.keras.layers.Flatten()(pool2)\n",
    "fc1 = tf.keras.layers.Dense(128, activation=tf.nn.relu)(flatten)\n",
    "fc2 = tf.keras.layers.Dense(64, activation=tf.nn.relu)(fc1)\n",
    "\n",
    "probabilities = tf.keras.layers.Dense(10, activation=tf.nn.softmax)(fc2)\n",
    "\n",
    "model = tf.keras.Model(inputs=[inputs], outputs=[probabilities])\n",
    "model.summary()\n",
    "print(\"Total parameters of model is {}\".format(model.count_params()))"
   ]
  },
  {
   "cell_type": "markdown",
   "metadata": {},
   "source": [
    "Now, we have to specify model's configuration."
   ]
  },
  {
   "cell_type": "code",
   "execution_count": 22,
   "metadata": {},
   "outputs": [],
   "source": [
    "opt = tf.train.RMSPropOptimizer(learning_rate=0.001)\n",
    "model.compile(loss='categorical_crossentropy',\n",
    "              optimizer=opt, metrics=['accuracy'])\n",
    "\n",
    "BATCH_SIZE = 64\n",
    "SHUFFLE_SIZE = 10000 "
   ]
  },
  {
   "cell_type": "markdown",
   "metadata": {},
   "source": [
    "# 4. Dataset pipeline\n",
    "\n",
    "We use the tf.data tensor flow library to construct the link between dataset and model.\n",
    "\n",
    "Of course you can use Keras's basic model.fit method, but this example uses tf.data."
   ]
  },
  {
   "cell_type": "code",
   "execution_count": 23,
   "metadata": {},
   "outputs": [
    {
     "name": "stdout",
     "output_type": "stream",
     "text": [
      "<BatchDataset shapes: ((?, 32, 32, 3), (?, 10)), types: (tf.float32, tf.float32)>\n"
     ]
    }
   ],
   "source": [
    "# Create the dataset\n",
    "dataset = tf.data.Dataset.from_tensor_slices((x_train, y_train))\n",
    "dataset = dataset.shuffle(SHUFFLE_SIZE)\n",
    "dataset = dataset.batch(BATCH_SIZE)\n",
    "\n",
    "test_dataset = tf.data.Dataset.from_tensor_slices((x_test, y_test))\n",
    "test_dataset = test_dataset.shuffle(SHUFFLE_SIZE)\n",
    "test_dataset = test_dataset.batch(BATCH_SIZE)\n",
    "\n",
    "print(dataset)"
   ]
  },
  {
   "cell_type": "markdown",
   "metadata": {},
   "source": [
    "# 5. Train model\n",
    "\n",
    "Finally, train our model for checking accuracy!!"
   ]
  },
  {
   "cell_type": "code",
   "execution_count": 24,
   "metadata": {},
   "outputs": [
    {
     "name": "stdout",
     "output_type": "stream",
     "text": [
      "Epoch #1\t Loss: #2.0995328426361084\tAccuracy: #0.375\n",
      "Epoch #2\t Loss: #1.4556081295013428\tAccuracy: #0.5625\n",
      "Epoch #3\t Loss: #1.0191731452941895\tAccuracy: #0.8125\n",
      "Epoch #4\t Loss: #1.4584349393844604\tAccuracy: #0.5625\n",
      "Epoch #5\t Loss: #1.751936912536621\tAccuracy: #0.3125\n",
      "Epoch #6\t Loss: #1.0858296155929565\tAccuracy: #0.625\n",
      "Epoch #7\t Loss: #0.8649528622627258\tAccuracy: #0.6875\n",
      "Epoch #8\t Loss: #0.7430163621902466\tAccuracy: #0.875\n",
      "Epoch #9\t Loss: #1.5803413391113281\tAccuracy: #0.4375\n",
      "Epoch #10\t Loss: #1.1307251453399658\tAccuracy: #0.5625\n",
      "313/313 [==============================] - 5s 16ms/step\n",
      "\n",
      "Test Model \t\t Loss: 1.271063\tAccuracy: 0.605500\n"
     ]
    }
   ],
   "source": [
    "# Start training..!\n",
    "for epoch in range(10):\n",
    "    for (train_images, train_labels), (test_images, test_labels) in zip(dataset, test_dataset):\n",
    "        loss, acc = model.train_on_batch(train_images, train_labels)\n",
    "        test_loss, test_acc = model.test_on_batch(test_images, test_labels)\n",
    "    print('Epoch #{}\\t Loss: #{}\\tAccuracy: #{}'.format(epoch + 1, test_loss, test_acc))\n",
    "          \n",
    "# Check model with full batches\n",
    "test_loss, test_acc = model.evaluate(x_test, y_test)\n",
    "print('\\nTest Model \\t\\t Loss: %.6f\\tAccuracy: %.6f' % (test_loss, test_acc))"
   ]
  },
  {
   "cell_type": "markdown",
   "metadata": {},
   "source": [
    "Performance is not good.\n",
    "\n",
    "There are several reasons for this, but the main reason is the structure of the deep learning network.\n",
    "\n",
    "So I hope you will improve the performance of the model!!\n",
    "\n",
    "The following example shows how to configure a more diverse deep learning network."
   ]
  },
  {
   "cell_type": "code",
   "execution_count": null,
   "metadata": {},
   "outputs": [],
   "source": []
  }
 ],
 "metadata": {
  "kernelspec": {
   "display_name": "Python 3",
   "language": "python",
   "name": "python3"
  },
  "language_info": {
   "codemirror_mode": {
    "name": "ipython",
    "version": 3
   },
   "file_extension": ".py",
   "mimetype": "text/x-python",
   "name": "python",
   "nbconvert_exporter": "python",
   "pygments_lexer": "ipython3",
   "version": "3.6.5"
  }
 },
 "nbformat": 4,
 "nbformat_minor": 2
}
